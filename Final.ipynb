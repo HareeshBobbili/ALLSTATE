{
  "nbformat": 4,
  "nbformat_minor": 0,
  "metadata": {
    "colab": {
      "name": "Final.ipynb",
      "provenance": [],
      "collapsed_sections": []
    },
    "kernelspec": {
      "name": "python3",
      "display_name": "Python 3"
    }
  },
  "cells": [
    {
      "cell_type": "code",
      "metadata": {
        "id": "EVo2VmnAkusL",
        "colab_type": "code",
        "colab": {
          "base_uri": "https://localhost:8080/",
          "height": 161
        },
        "outputId": "c2cfd932-f6b1-47a4-ae32-35e49efb9f75"
      },
      "source": [
        "from sklearn.externals import joblib\n",
        "import pandas as pd\n",
        "from sklearn.metrics import mean_absolute_error,make_scorer\n",
        "from scipy.sparse import hstack\n",
        "from sklearn.feature_extraction.text import CountVectorizer\n",
        "from sklearn.model_selection import train_test_split\n",
        "from google.colab import drive\n",
        "\n",
        "drive.mount('/content/drive')"
      ],
      "execution_count": 2,
      "outputs": [
        {
          "output_type": "stream",
          "text": [
            "/usr/local/lib/python3.6/dist-packages/sklearn/externals/joblib/__init__.py:15: FutureWarning: sklearn.externals.joblib is deprecated in 0.21 and will be removed in 0.23. Please import this functionality directly from joblib, which can be installed with: pip install joblib. If this warning is raised when loading pickled models, you may need to re-serialize those models with scikit-learn 0.21+.\n",
            "  warnings.warn(msg, category=FutureWarning)\n"
          ],
          "name": "stderr"
        },
        {
          "output_type": "stream",
          "text": [
            "Go to this URL in a browser: https://accounts.google.com/o/oauth2/auth?client_id=947318989803-6bn6qk8qdgf4n4g3pfee6491hc0brc4i.apps.googleusercontent.com&redirect_uri=urn%3aietf%3awg%3aoauth%3a2.0%3aoob&response_type=code&scope=email%20https%3a%2f%2fwww.googleapis.com%2fauth%2fdocs.test%20https%3a%2f%2fwww.googleapis.com%2fauth%2fdrive%20https%3a%2f%2fwww.googleapis.com%2fauth%2fdrive.photos.readonly%20https%3a%2f%2fwww.googleapis.com%2fauth%2fpeopleapi.readonly\n",
            "\n",
            "Enter your authorization code:\n",
            "··········\n",
            "Mounted at /content/drive\n"
          ],
          "name": "stdout"
        }
      ]
    },
    {
      "cell_type": "markdown",
      "metadata": {
        "id": "Olr0uzvhrwLJ",
        "colab_type": "text"
      },
      "source": [
        "**Data Preprocessing**"
      ]
    },
    {
      "cell_type": "code",
      "metadata": {
        "id": "h0ectBixqki3",
        "colab_type": "code",
        "colab": {}
      },
      "source": [
        "test_data = pd.read_csv('/content/drive/My Drive/Colab Notebooks/test.csv')\n",
        "test_data = test_data.drop(columns=['id'],axis='column')\n",
        "\n",
        "cat_features = []\n",
        "num_features = []\n",
        "\n",
        "for feature in test_data.columns:\n",
        "  if 'cat' in feature:\n",
        "    cat_features.append(feature)\n",
        "  else:\n",
        "    num_features.append(feature)"
      ],
      "execution_count": 6,
      "outputs": []
    },
    {
      "cell_type": "code",
      "metadata": {
        "id": "Z5KlKgR3chTF",
        "colab_type": "code",
        "colab": {
          "base_uri": "https://localhost:8080/",
          "height": 34
        },
        "outputId": "f0690b17-4b0a-4081-9cf7-482a50f274a1"
      },
      "source": [
        "model = joblib.load(\"/content/drive/My Drive/Colab Notebooks/Final_Model.pkl\")"
      ],
      "execution_count": 8,
      "outputs": [
        {
          "output_type": "stream",
          "text": [
            "[05:49:23] WARNING: /workspace/src/objective/regression_obj.cu:152: reg:linear is now deprecated in favor of reg:squarederror.\n"
          ],
          "name": "stdout"
        }
      ]
    },
    {
      "cell_type": "markdown",
      "metadata": {
        "id": "GII6bg_7r-3S",
        "colab_type": "text"
      },
      "source": [
        "**FUNCTION 1 (Input single point or array of points)**"
      ]
    },
    {
      "cell_type": "code",
      "metadata": {
        "id": "PlCpdjjem4jY",
        "colab_type": "code",
        "colab": {}
      },
      "source": [
        "def fun1(x_inp):\n",
        "\n",
        "  unseen_data = pd.DataFrame(data=x_inp,columns=test_data.columns)\n",
        "\n",
        "  cat_onehot_encode_num_features_test = []\n",
        "\n",
        "  for col in cat_features:\n",
        "    vectorizer = joblib.load(\"/content/drive/My Drive/Colab Notebooks/\"+col+\".pkl\")\n",
        "    cat_onehot_encode_num_features_test.append(vectorizer.transform(unseen_data[col].values))\n",
        "  \n",
        "  for col in num_features:\n",
        "    if col not in ['loss']:\n",
        "      cat_onehot_encode_num_features_test.append(unseen_data[col].values.reshape(-1,1))\n",
        "\n",
        "  X_te = hstack((cat_onehot_encode_num_features_test)).tocsr()\n",
        "\n",
        "  y_test = model.predict(X_te)\n",
        "\n",
        "  return y_test\n"
      ],
      "execution_count": 9,
      "outputs": []
    },
    {
      "cell_type": "code",
      "metadata": {
        "id": "NNsnaKqkeIIh",
        "colab_type": "code",
        "colab": {
          "base_uri": "https://localhost:8080/",
          "height": 34
        },
        "outputId": "35742d05-0f39-446d-86ac-2d28683f4e30"
      },
      "source": [
        "Single_point = test_data.head(1).copy()\n",
        "fun1(Single_point.to_numpy().tolist())"
      ],
      "execution_count": 22,
      "outputs": [
        {
          "output_type": "execute_result",
          "data": {
            "text/plain": [
              "array([1590.9779], dtype=float32)"
            ]
          },
          "metadata": {
            "tags": []
          },
          "execution_count": 22
        }
      ]
    },
    {
      "cell_type": "code",
      "metadata": {
        "id": "AmX7uJlNeod6",
        "colab_type": "code",
        "colab": {
          "base_uri": "https://localhost:8080/",
          "height": 34
        },
        "outputId": "535d5dc1-c6e9-427c-888b-a53ae01cb266"
      },
      "source": [
        "array_points = test_data.head(3).copy()\n",
        "fun1(array_points.to_numpy().tolist())"
      ],
      "execution_count": 23,
      "outputs": [
        {
          "output_type": "execute_result",
          "data": {
            "text/plain": [
              "array([1590.9779, 2136.6711, 9481.576 ], dtype=float32)"
            ]
          },
          "metadata": {
            "tags": []
          },
          "execution_count": 23
        }
      ]
    },
    {
      "cell_type": "markdown",
      "metadata": {
        "id": "qyQsBT6vsDAw",
        "colab_type": "text"
      },
      "source": [
        "**Function 2 (return the metric value)**"
      ]
    },
    {
      "cell_type": "code",
      "metadata": {
        "id": "xhkv5wkEsSct",
        "colab_type": "code",
        "colab": {}
      },
      "source": [
        "def fun2(x_inp,y_target):\n",
        "  \n",
        "  unseen_data = pd.DataFrame(data=x_inp,columns=test_data.columns)\n",
        "\n",
        "  cat_onehot_encode_num_features_test = []\n",
        "\n",
        "  for col in cat_features:\n",
        "    vectorizer = joblib.load(\"/content/drive/My Drive/Colab Notebooks/\"+col+\".pkl\")\n",
        "    cat_onehot_encode_num_features_test.append(vectorizer.transform(unseen_data[col].values))\n",
        "  \n",
        "  for col in num_features:\n",
        "    if col not in ['loss']:\n",
        "      cat_onehot_encode_num_features_test.append(unseen_data[col].values.reshape(-1,1))\n",
        "\n",
        "  X_te = hstack((cat_onehot_encode_num_features_test)).tocsr()\n",
        "\n",
        "  y_test = model.predict(X_te)\n",
        "  \n",
        "  return mean_absolute_error(y_target,y_test)"
      ],
      "execution_count": 25,
      "outputs": []
    },
    {
      "cell_type": "code",
      "metadata": {
        "id": "q6IIwMVAm2iA",
        "colab_type": "code",
        "colab": {}
      },
      "source": [
        "train_data = pd.read_csv('/content/drive/My Drive/Colab Notebooks/train.csv')\n",
        "train_data = train_data.drop(columns=['id'],axis='column')\n",
        "\n",
        "X = train_data.drop(columns=['loss'],axis='columns')\n",
        "y = train_data['loss']"
      ],
      "execution_count": 26,
      "outputs": []
    },
    {
      "cell_type": "code",
      "metadata": {
        "id": "bS4sPnmfkiAD",
        "colab_type": "code",
        "colab": {
          "base_uri": "https://localhost:8080/",
          "height": 34
        },
        "outputId": "767ea877-60f2-4c20-e151-81063555f131"
      },
      "source": [
        "fun2(X.head(3).to_numpy().tolist(),y[0:3:1].values)"
      ],
      "execution_count": 32,
      "outputs": [
        {
          "output_type": "execute_result",
          "data": {
            "text/plain": [
              "624.1319612630208"
            ]
          },
          "metadata": {
            "tags": []
          },
          "execution_count": 32
        }
      ]
    }
  ]
}